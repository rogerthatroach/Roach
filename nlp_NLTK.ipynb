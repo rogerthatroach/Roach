{
  "nbformat": 4,
  "nbformat_minor": 0,
  "metadata": {
    "colab": {
      "name": "nlp_NLTK.ipynb",
      "version": "0.3.2",
      "provenance": [],
      "collapsed_sections": [],
      "include_colab_link": true
    },
    "kernelspec": {
      "name": "python3",
      "display_name": "Python 3"
    },
    "accelerator": "GPU"
  },
  "cells": [
    {
      "cell_type": "markdown",
      "metadata": {
        "id": "view-in-github",
        "colab_type": "text"
      },
      "source": [
        "<a href=\"https://colab.research.google.com/github/rogerthatroach/Roach/blob/master/nlp_NLTK.ipynb\" target=\"_parent\"><img src=\"https://colab.research.google.com/assets/colab-badge.svg\" alt=\"Open In Colab\"/></a>"
      ]
    },
    {
      "metadata": {
        "id": "f01_aQy4ZuXC",
        "colab_type": "code",
        "colab": {
          "base_uri": "https://localhost:8080/",
          "height": 68
        },
        "outputId": "45d4c68f-d5bd-4a8c-9705-2de79c6b7587"
      },
      "cell_type": "code",
      "source": [
        "import nltk\n",
        "nltk.download('brown')"
      ],
      "execution_count": 3,
      "outputs": [
        {
          "output_type": "stream",
          "text": [
            "[nltk_data] Downloading package brown to /root/nltk_data...\n",
            "[nltk_data]   Unzipping corpora/brown.zip.\n"
          ],
          "name": "stdout"
        },
        {
          "output_type": "execute_result",
          "data": {
            "text/plain": [
              "True"
            ]
          },
          "metadata": {
            "tags": []
          },
          "execution_count": 3
        }
      ]
    },
    {
      "metadata": {
        "id": "nN6bpltoZhN5",
        "colab_type": "code",
        "colab": {
          "base_uri": "https://localhost:8080/",
          "height": 34
        },
        "outputId": "3e0e6fd9-963c-47ef-a73b-f2c017339885"
      },
      "cell_type": "code",
      "source": [
        "from nltk.corpus import brown\n",
        "import nltk\n",
        "brown_tagged_words = list(brown.tagged_words())\n",
        "brown_tagged_trigrams = list(nltk.trigrams(brown_tagged_words))  \n",
        "\n",
        "brown_trigram_pos_tags = []\n",
        "b = []\n",
        "for i in range(0, len(brown_tagged_trigrams)):\n",
        "  b = []\n",
        "  for j in range(0,3):\n",
        "    a = brown_tagged_trigrams[i][j][1]\n",
        "    b.append(a)\n",
        "  brown_trigram_pos_tags.append(tuple(b))\n",
        "  \n",
        "brown_trigram_pos_tags_freq = nltk.FreqDist(brown_trigram_pos_tags) \n",
        "print(brown_trigram_pos_tags_freq[('JJ','NN','IN')])  "
      ],
      "execution_count": 4,
      "outputs": [
        {
          "output_type": "stream",
          "text": [
            "8424\n"
          ],
          "name": "stdout"
        }
      ]
    },
    {
      "metadata": {
        "id": "JlCdlA_ta_RM",
        "colab_type": "code",
        "colab": {
          "base_uri": "https://localhost:8080/",
          "height": 34
        },
        "outputId": "28ccfd06-1b52-44e1-c767-4c7304b890e5"
      },
      "cell_type": "code",
      "source": [
        "brown_tagged_sents = brown.tagged_sents()\n",
        "total_size = len(brown_tagged_sents)\n",
        "\n",
        "train_size = int(total_size*0.8)\n",
        "train_sents = brown_tagged_sents[:train_size]\n",
        "test_sents = brown_tagged_sents[train_size:]\n",
        "\n",
        "unigram_tagger = nltk.UnigramTagger(train_sents)\n",
        "tag_performace = unigram_tagger.evaluate(test_sents)\n",
        "print(tag_performace)"
      ],
      "execution_count": 5,
      "outputs": [
        {
          "output_type": "stream",
          "text": [
            "0.8773754310202373\n"
          ],
          "name": "stdout"
        }
      ]
    },
    {
      "metadata": {
        "id": "kK_KpL4fgJfs",
        "colab_type": "code",
        "colab": {}
      },
      "cell_type": "code",
      "source": [
        ""
      ],
      "execution_count": 0,
      "outputs": []
    }
  ]
}