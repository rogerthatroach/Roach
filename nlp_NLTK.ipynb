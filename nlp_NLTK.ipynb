{
  "nbformat": 4,
  "nbformat_minor": 0,
  "metadata": {
    "colab": {
      "name": "nlp_NLTK.ipynb",
      "version": "0.3.2",
      "provenance": [],
      "collapsed_sections": [],
      "include_colab_link": true
    },
    "kernelspec": {
      "name": "python3",
      "display_name": "Python 3"
    },
    "accelerator": "GPU"
  },
  "cells": [
    {
      "cell_type": "markdown",
      "metadata": {
        "id": "view-in-github",
        "colab_type": "text"
      },
      "source": [
        "<a href=\"https://colab.research.google.com/github/rogerthatroach/Roach/blob/master/nlp_NLTK.ipynb\" target=\"_parent\"><img src=\"https://colab.research.google.com/assets/colab-badge.svg\" alt=\"Open In Colab\"/></a>"
      ]
    },
    {
      "metadata": {
        "id": "f01_aQy4ZuXC",
        "colab_type": "code",
        "colab": {
          "base_uri": "https://localhost:8080/",
          "height": 88
        },
        "outputId": "45d4c68f-d5bd-4a8c-9705-2de79c6b7587"
      },
      "cell_type": "code",
      "source": [
        "import nltk\n",
        "nltk.download('brown')\n",
        "nltk.download('book')"
      ],
      "execution_count": 3,
      "outputs": [
        {
          "output_type": "stream",
          "text": [
            "[nltk_data] Downloading package brown to /root/nltk_data...\n",
            "[nltk_data]   Unzipping corpora/brown.zip.\n"
          ],
          "name": "stdout"
        },
        {
          "output_type": "execute_result",
          "data": {
            "text/plain": [
              "True"
            ]
          },
          "metadata": {
            "tags": []
          },
          "execution_count": 3
        }
      ]
    },
    {
      "metadata": {
        "id": "nN6bpltoZhN5",
        "colab_type": "code",
        "colab": {
          "base_uri": "https://localhost:8080/",
          "height": 54
        },
        "outputId": "3e0e6fd9-963c-47ef-a73b-f2c017339885"
      },
      "cell_type": "code",
      "source": [
        "from nltk.corpus import brown\n",
        "import nltk\n",
        "brown_tagged_words = list(brown.tagged_words())\n",
        "brown_tagged_trigrams = list(nltk.trigrams(brown_tagged_words))  \n",
        "\n",
        "brown_trigram_pos_tags = []\n",
        "b = []\n",
        "for i in range(0, len(brown_tagged_trigrams)):\n",
        "  b = []\n",
        "  for j in range(0,3):\n",
        "    a = brown_tagged_trigrams[i][j][1]\n",
        "    b.append(a)\n",
        "  brown_trigram_pos_tags.append(tuple(b))\n",
        "  \n",
        "brown_trigram_pos_tags_freq = nltk.FreqDist(brown_trigram_pos_tags) \n",
        "print(brown_trigram_pos_tags_freq[('JJ','NN','IN')])  "
      ],
      "execution_count": 4,
      "outputs": [
        {
          "output_type": "stream",
          "text": [
            "8424\n"
          ],
          "name": "stdout"
        }
      ]
    },
    {
      "metadata": {
        "id": "JlCdlA_ta_RM",
        "colab_type": "code",
        "colab": {
          "base_uri": "https://localhost:8080/",
          "height": 54
        },
        "outputId": "28ccfd06-1b52-44e1-c767-4c7304b890e5"
      },
      "cell_type": "code",
      "source": [
        "brown_tagged_sents = brown.tagged_sents()\n",
        "total_size = len(brown_tagged_sents)\n",
        "\n",
        "train_size = int(total_size*0.8)\n",
        "train_sents = brown_tagged_sents[:train_size]\n",
        "test_sents = brown_tagged_sents[train_size:]\n",
        "\n",
        "unigram_tagger = nltk.UnigramTagger(train_sents)\n",
        "tag_performace = unigram_tagger.evaluate(test_sents)\n",
        "print(tag_performace)"
      ],
      "execution_count": 5,
      "outputs": [
        {
          "output_type": "stream",
          "text": [
            "0.8773754310202373\n"
          ],
          "name": "stdout"
        }
      ]
    },
    {
      "metadata": {
        "id": "kK_KpL4fgJfs",
        "colab_type": "code",
        "colab": {
          "base_uri": "https://localhost:8080/",
          "height": 54
        },
        "outputId": "0fce79b3-6bca-4b3a-9d89-349c1dd01b99"
      },
      "cell_type": "code",
      "source": [
        "import nltk\n",
        "tagged_token = nltk.tag.str2tuple('fly/NN')\n",
        "print(tagged_token)"
      ],
      "execution_count": 6,
      "outputs": [
        {
          "output_type": "stream",
          "text": [
            "('fly', 'NN')\n"
          ],
          "name": "stdout"
        }
      ]
    },
    {
      "metadata": {
        "id": "E9LnG7j9iCkZ",
        "colab_type": "code",
        "colab": {}
      },
      "cell_type": "code",
      "source": [
        "words = [word for word in brown.words(categories=\"news\")]\n",
        "a = nltk.pos_tag(words)"
      ],
      "execution_count": 0,
      "outputs": []
    },
    {
      "metadata": {
        "id": "xDFTgNhzikpW",
        "colab_type": "code",
        "colab": {
          "base_uri": "https://localhost:8080/",
          "height": 134
        },
        "outputId": "b737a40c-f9ff-44db-af41-ddf7dd302a2f"
      },
      "cell_type": "code",
      "source": [
        "from collections import Counter\n",
        "counts = Counter( tag for word,  tag in a)\n",
        "print(counts)"
      ],
      "execution_count": 25,
      "outputs": [
        {
          "output_type": "stream",
          "text": [
            "Counter({'NN': 13722, 'NNP': 12669, 'IN': 11609, 'DT': 10084, 'JJ': 6302, ',': 5188, 'NNS': 4943, '.': 4158, 'VBD': 3969, 'RB': 2762, 'CC': 2732, 'VB': 2652, 'CD': 2196, 'VBN': 2175, 'TO': 2144, 'PRP': 2114, 'VBZ': 1636, 'VBG': 1369, 'PRP$': 1065, 'MD': 1039, 'VBP': 1001, ':': 763, '``': 732, \"''\": 729, 'WDT': 387, 'WP': 373, 'RP': 355, 'WRB': 285, 'JJR': 261, 'NNPS': 223, ')': 171, 'EX': 169, '(': 168, 'JJS': 157, 'RBR': 94, 'PDT': 47, 'RBS': 47, 'WP$': 22, 'POS': 20, 'FW': 15, 'UH': 7})\n"
          ],
          "name": "stdout"
        }
      ]
    },
    {
      "metadata": {
        "id": "WrIerRsujj0C",
        "colab_type": "code",
        "colab": {
          "base_uri": "https://localhost:8080/",
          "height": 54
        },
        "outputId": "5304b0e3-f951-4692-9be5-057a8974990c"
      },
      "cell_type": "code",
      "source": [
        "import nltk\n",
        "tagged_token = nltk.tag.str2tuple('fly/NN')\n",
        "print(tagged_token)"
      ],
      "execution_count": 26,
      "outputs": [
        {
          "output_type": "stream",
          "text": [
            "('fly', 'NN')\n"
          ],
          "name": "stdout"
        }
      ]
    },
    {
      "metadata": {
        "id": "0FSqmZQ2kxYE",
        "colab_type": "code",
        "colab": {
          "base_uri": "https://localhost:8080/",
          "height": 54
        },
        "outputId": "61b307de-179a-4f4d-d07b-24d436239e27"
      },
      "cell_type": "code",
      "source": [
        "import re\n",
        "s = 'Python is cool!!!'\n",
        "print(re.findall(r'\\s\\w+\\b', s))"
      ],
      "execution_count": 28,
      "outputs": [
        {
          "output_type": "stream",
          "text": [
            "[' is', ' cool']\n"
          ],
          "name": "stdout"
        }
      ]
    },
    {
      "metadata": {
        "id": "AmMNZYMtk0Do",
        "colab_type": "code",
        "colab": {
          "base_uri": "https://localhost:8080/",
          "height": 88
        },
        "outputId": "fb53f624-3385-4acc-e509-6128eb246b33"
      },
      "cell_type": "code",
      "source": [
        "from nltk.corpus import reuters\n",
        "brown_cfd = nltk.ConditionalFreqDist(\n",
        "        (genre, word)\n",
        "        for genre in reuters.categories()\n",
        "        for word in reuters.words(categories=genre))\n",
        "\n",
        "print(brown_cfd.tabulate(conditions=['gas'], samples=['gasoline', 'barrels']))\n"
      ],
      "execution_count": 32,
      "outputs": [
        {
          "output_type": "stream",
          "text": [
            "    gasoline  barrels \n",
            "gas       77       64 \n",
            "None\n"
          ],
          "name": "stdout"
        }
      ]
    },
    {
      "metadata": {
        "id": "dNh61l6plp_H",
        "colab_type": "code",
        "colab": {
          "base_uri": "https://localhost:8080/",
          "height": 54
        },
        "outputId": "2f2993c9-9c39-4e54-a367-02dc1cd057a4"
      },
      "cell_type": "code",
      "source": [
        "s = 'Python is awesome'\n",
        "print(nltk.pos_tag(nltk.word_tokenize(s)))"
      ],
      "execution_count": 33,
      "outputs": [
        {
          "output_type": "stream",
          "text": [
            "[('Python', 'NNP'), ('is', 'VBZ'), ('awesome', 'JJ')]\n"
          ],
          "name": "stdout"
        }
      ]
    },
    {
      "metadata": {
        "id": "lRzCYsO8mB0V",
        "colab_type": "code",
        "colab": {}
      },
      "cell_type": "code",
      "source": [
        "from nltk.book import text6\n",
        "\n",
        "a = [w for w in text6]"
      ],
      "execution_count": 0,
      "outputs": []
    },
    {
      "metadata": {
        "id": "f0F7fuKLmIc8",
        "colab_type": "code",
        "colab": {
          "base_uri": "https://localhost:8080/",
          "height": 54
        },
        "outputId": "05097ed8-591d-4162-9fcb-5954d45be761"
      },
      "cell_type": "code",
      "source": [
        "n = len(a)\n",
        "u = len(set(a))\n",
        "print(n/u)"
      ],
      "execution_count": 58,
      "outputs": [
        {
          "output_type": "stream",
          "text": [
            "7.833333333333333\n"
          ],
          "name": "stdout"
        }
      ]
    },
    {
      "metadata": {
        "id": "IUcNqoJCmPuM",
        "colab_type": "code",
        "colab": {
          "base_uri": "https://localhost:8080/",
          "height": 54
        },
        "outputId": "142a84df-c1ec-4772-941f-4e1efdb54750"
      },
      "cell_type": "code",
      "source": [
        "import nltk\n",
        "wnl = nltk.WordNetLemmatizer()\n",
        "print(wnl.lemmatize('women'))"
      ],
      "execution_count": 59,
      "outputs": [
        {
          "output_type": "stream",
          "text": [
            "woman\n"
          ],
          "name": "stdout"
        }
      ]
    },
    {
      "metadata": {
        "id": "sm8fF8zknKDO",
        "colab_type": "code",
        "colab": {
          "base_uri": "https://localhost:8080/",
          "height": 54
        },
        "outputId": "42d96fc4-138b-4d0e-f55c-5329179cb935"
      },
      "cell_type": "code",
      "source": [
        "import nltk\n",
        "lancaster = nltk.LancasterStemmer()\n",
        "print(lancaster.stem('power'))"
      ],
      "execution_count": 60,
      "outputs": [
        {
          "output_type": "stream",
          "text": [
            "pow\n"
          ],
          "name": "stdout"
        }
      ]
    },
    {
      "metadata": {
        "id": "oDj_i86Lneih",
        "colab_type": "code",
        "colab": {
          "base_uri": "https://localhost:8080/",
          "height": 106
        },
        "outputId": "06ca5e39-4184-45da-e7fd-774bd5bc3b3b"
      },
      "cell_type": "code",
      "source": [
        "gen_text = nltk.Text(a)\n",
        "gen_text.collocations()"
      ],
      "execution_count": 62,
      "outputs": [
        {
          "output_type": "stream",
          "text": [
            "BLACK KNIGHT; clop clop; HEAD KNIGHT; mumble mumble; Holy Grail;\n",
            "squeak squeak; FRENCH GUARD; saw saw; Sir Robin; Run away; CARTOON\n",
            "CHARACTER; King Arthur; Iesu domine; Pie Iesu; DEAD PERSON; Round\n",
            "Table; clap clap; OLD MAN; dramatic chord; dona eis\n"
          ],
          "name": "stdout"
        }
      ]
    },
    {
      "metadata": {
        "id": "7Yw8x-zQn-CN",
        "colab_type": "code",
        "colab": {
          "base_uri": "https://localhost:8080/",
          "height": 88
        },
        "outputId": "cab66f93-e3ad-4e07-aafc-c14bf3d961e4"
      },
      "cell_type": "code",
      "source": [
        "from nltk.corpus import brown\n",
        "import nltk\n",
        "\n",
        "news_words = [word for word in brown.words(categories=\"news\")]\n",
        "\n",
        "lc_news_words = [word.lower() for word in news_words]\n",
        "len_news_words = [len(w) for w in lc_news_words]\n",
        "\n",
        "news_len_bigrams = list(nltk.bigrams(len_news_words))\n",
        "\n",
        "cfd_news = nltk.ConditionalFreqDist(news_len_bigrams)\n",
        "cfd_news.tabulate(conditions=[4, 6], samples=[6, 4])"
      ],
      "execution_count": 63,
      "outputs": [
        {
          "output_type": "stream",
          "text": [
            "     6    4 \n",
            "4 1084 2096 \n",
            "6  567 1032 \n"
          ],
          "name": "stdout"
        }
      ]
    },
    {
      "metadata": {
        "id": "HC9CyH9rotv4",
        "colab_type": "code",
        "colab": {
          "base_uri": "https://localhost:8080/",
          "height": 140
        },
        "outputId": "5d98b681-fd07-44de-8c37-b7804536b4ab"
      },
      "cell_type": "code",
      "source": [
        "lc_news_bigrams = list(nltk.bigrams(lc_news_words))\n",
        "a = []\n",
        "for i in lc_news_bigrams:\n",
        "    a.append((''.join([w + '' for w in i])).strip())\n",
        "lc_news_bigrams = a    \n",
        "lc_news_alpha_bigrams = [w for w in lc_news_bigrams if w.isalpha()]\n",
        "\n",
        "lc_news_alpha_bigrams[:6]"
      ],
      "execution_count": 65,
      "outputs": [
        {
          "output_type": "execute_result",
          "data": {
            "text/plain": [
              "['thefulton',\n",
              " 'fultoncounty',\n",
              " 'countygrand',\n",
              " 'grandjury',\n",
              " 'jurysaid',\n",
              " 'saidfriday']"
            ]
          },
          "metadata": {
            "tags": []
          },
          "execution_count": 65
        }
      ]
    },
    {
      "metadata": {
        "id": "tTdYia0Vo9_n",
        "colab_type": "code",
        "colab": {}
      },
      "cell_type": "code",
      "source": [
        "lc_news_bigrams = list(nltk.bigrams(lc_news_words))\n",
        "lc_news_alpha_bigrams = []\n",
        "for i in range(0,len(lc_news_bigrams)):\n",
        "    a = lc_news_bigrams[i][0].isalpha() & lc_news_bigrams[i][1].isalpha()\n",
        "    if a is True:\n",
        "        lc_news_alpha_bigrams.append(lc_news_bigrams[i])"
      ],
      "execution_count": 0,
      "outputs": []
    },
    {
      "metadata": {
        "id": "GhbQhLXapBOu",
        "colab_type": "code",
        "colab": {
          "base_uri": "https://localhost:8080/",
          "height": 34
        },
        "outputId": "4c3ec5eb-545e-4657-90d1-83edfaab6a40"
      },
      "cell_type": "code",
      "source": [
        "from nltk.corpus import stopwords\n",
        "stop_words = stopwords.words(\"english\")    \n",
        "lc_stop_words = [word.lower() for word in stop_words]"
      ],
      "execution_count": 79,
      "outputs": [
        {
          "output_type": "execute_result",
          "data": {
            "text/plain": [
              "['i', 'me', 'my', 'myself', 'we', 'our']"
            ]
          },
          "metadata": {
            "tags": []
          },
          "execution_count": 79
        }
      ]
    },
    {
      "metadata": {
        "id": "1-sP_LtQpT3s",
        "colab_type": "code",
        "colab": {
          "base_uri": "https://localhost:8080/",
          "height": 34
        },
        "outputId": "c86f7fc7-e1d6-4cd1-cbf3-79dace782ebd"
      },
      "cell_type": "code",
      "source": [
        "lc_news_alpha_nonstop_bigrams = []\n",
        "for i in range(0,len(lc_news_alpha_bigrams)):\n",
        "    a = (lc_news_alpha_bigrams[i][0] in lc_stop_words) | (lc_news_alpha_bigrams[i][1] in lc_stop_words)\n",
        "    if a is False:\n",
        "        lc_news_alpha_nonstop_bigrams.append(lc_news_alpha_bigrams[i])\n",
        "print(len(lc_news_alpha_nonstop_bigrams))        "
      ],
      "execution_count": 89,
      "outputs": [
        {
          "output_type": "stream",
          "text": [
            "17704\n"
          ],
          "name": "stdout"
        }
      ]
    },
    {
      "metadata": {
        "id": "9T5NO--osDSA",
        "colab_type": "code",
        "colab": {}
      },
      "cell_type": "code",
      "source": [
        ""
      ],
      "execution_count": 0,
      "outputs": []
    }
  ]
}